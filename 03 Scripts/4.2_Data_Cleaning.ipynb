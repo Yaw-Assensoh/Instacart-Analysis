{
 "cells": [
  {
   "cell_type": "code",
   "execution_count": 1,
   "id": "ee16fd8c-7453-4698-a9e4-e00d6bf7f558",
   "metadata": {},
   "outputs": [],
   "source": [
    "# Importing Libraries\n",
    "import pandas as pd\n",
    "import numpy as np\n",
    "import os\n",
    "from os.path import join"
   ]
  },
  {
   "cell_type": "code",
   "execution_count": 53,
   "id": "7992c5b4-81d6-41d1-ac55-3109cadd097c",
   "metadata": {},
   "outputs": [],
   "source": [
    "ORIGINAL_DATA_PATH = \"../Original Data\""
   ]
  },
  {
   "cell_type": "code",
   "execution_count": 54,
   "id": "3e16ae5a-f03b-458a-903c-e4525aae73cb",
   "metadata": {},
   "outputs": [],
   "source": [
    "orders_df = pd.read_csv(join(ORIGINAL_DATA_PATH, \"orders.csv\"))"
   ]
  },
  {
   "cell_type": "code",
   "execution_count": 55,
   "id": "ea165f9e-e038-46d1-8153-3614ebe59c72",
   "metadata": {},
   "outputs": [],
   "source": [
    "prods_df_clean_no_dups = pd.read_csv(join(ORIGINAL_DATA_PATH, \"products.csv\"))"
   ]
  },
  {
   "cell_type": "code",
   "execution_count": 56,
   "id": "a5d3dcc2-5b72-47c3-8923-4802302e6b60",
   "metadata": {},
   "outputs": [],
   "source": [
    "prods_df = pd.read_csv(join(ORIGINAL_DATA_PATH, \"products.csv\"))"
   ]
  },
  {
   "cell_type": "markdown",
   "id": "8085f21f-d23e-470f-8c7b-6edc7923ab95",
   "metadata": {},
   "source": [
    "## Step 1: Consistency Checks omitted 'prods_df'"
   ]
  },
  {
   "cell_type": "code",
   "execution_count": 57,
   "id": "5a117047-c539-49b0-9950-7e5e208677c6",
   "metadata": {},
   "outputs": [
    {
     "data": {
      "text/plain": [
       "(49693, 5)"
      ]
     },
     "execution_count": 57,
     "metadata": {},
     "output_type": "execute_result"
    }
   ],
   "source": [
    "# cleaned all duplicates\n",
    "prods_df_clean_no_dups.shape"
   ]
  },
  {
   "cell_type": "code",
   "execution_count": 58,
   "id": "19655340-f26a-4650-988c-b0d1a8937791",
   "metadata": {},
   "outputs": [
    {
     "data": {
      "text/plain": [
       "<bound method NDFrame.describe of        product_id                                       product_name  \\\n",
       "0               1                         Chocolate Sandwich Cookies   \n",
       "1               2                                   All-Seasons Salt   \n",
       "2               3               Robust Golden Unsweetened Oolong Tea   \n",
       "3               4  Smart Ones Classic Favorites Mini Rigatoni Wit...   \n",
       "4               5                          Green Chile Anytime Sauce   \n",
       "...           ...                                                ...   \n",
       "49688       49684          Vodka, Triple Distilled, Twist of Vanilla   \n",
       "49689       49685                 En Croute Roast Hazelnut Cranberry   \n",
       "49690       49686                                   Artisan Baguette   \n",
       "49691       49687         Smartblend Healthy Metabolism Dry Cat Food   \n",
       "49692       49688                             Fresh Foaming Cleanser   \n",
       "\n",
       "       aisle_id  department_id  prices  \n",
       "0            61             19     5.8  \n",
       "1           104             13     9.3  \n",
       "2            94              7     4.5  \n",
       "3            38              1    10.5  \n",
       "4             5             13     4.3  \n",
       "...         ...            ...     ...  \n",
       "49688       124              5     5.3  \n",
       "49689        42              1     3.1  \n",
       "49690       112              3     7.8  \n",
       "49691        41              8     4.7  \n",
       "49692        73             11    13.5  \n",
       "\n",
       "[49693 rows x 5 columns]>"
      ]
     },
     "execution_count": 58,
     "metadata": {},
     "output_type": "execute_result"
    }
   ],
   "source": [
    "prods_df.describe"
   ]
  },
  {
   "cell_type": "code",
   "execution_count": 59,
   "id": "84958be4-ab4f-4858-924c-598fb9413e8e",
   "metadata": {},
   "outputs": [
    {
     "name": "stdout",
     "output_type": "stream",
     "text": [
      "<class 'pandas.core.frame.DataFrame'>\n",
      "RangeIndex: 49693 entries, 0 to 49692\n",
      "Data columns (total 5 columns):\n",
      " #   Column         Non-Null Count  Dtype  \n",
      "---  ------         --------------  -----  \n",
      " 0   product_id     49693 non-null  int64  \n",
      " 1   product_name   49677 non-null  object \n",
      " 2   aisle_id       49693 non-null  int64  \n",
      " 3   department_id  49693 non-null  int64  \n",
      " 4   prices         49693 non-null  float64\n",
      "dtypes: float64(1), int64(3), object(1)\n",
      "memory usage: 1.9+ MB\n"
     ]
    }
   ],
   "source": [
    "prods_df.info()"
   ]
  },
  {
   "cell_type": "markdown",
   "id": "680b79c5-0fb3-41c1-9285-423a850e6469",
   "metadata": {},
   "source": [
    "## Step 2: Run describe on orders"
   ]
  },
  {
   "cell_type": "code",
   "execution_count": 60,
   "id": "d7bb5b7a-f6e6-4e86-83e6-13fd7533145e",
   "metadata": {},
   "outputs": [
    {
     "data": {
      "text/html": [
       "<div>\n",
       "<style scoped>\n",
       "    .dataframe tbody tr th:only-of-type {\n",
       "        vertical-align: middle;\n",
       "    }\n",
       "\n",
       "    .dataframe tbody tr th {\n",
       "        vertical-align: top;\n",
       "    }\n",
       "\n",
       "    .dataframe thead th {\n",
       "        text-align: right;\n",
       "    }\n",
       "</style>\n",
       "<table border=\"1\" class=\"dataframe\">\n",
       "  <thead>\n",
       "    <tr style=\"text-align: right;\">\n",
       "      <th></th>\n",
       "      <th>order_id</th>\n",
       "      <th>user_id</th>\n",
       "      <th>order_number</th>\n",
       "      <th>order_dow</th>\n",
       "      <th>order_hour_of_day</th>\n",
       "      <th>days_since_prior_order</th>\n",
       "    </tr>\n",
       "  </thead>\n",
       "  <tbody>\n",
       "    <tr>\n",
       "      <th>count</th>\n",
       "      <td>3.421083e+06</td>\n",
       "      <td>3.421083e+06</td>\n",
       "      <td>3.421083e+06</td>\n",
       "      <td>3.421083e+06</td>\n",
       "      <td>3.421083e+06</td>\n",
       "      <td>3.214874e+06</td>\n",
       "    </tr>\n",
       "    <tr>\n",
       "      <th>mean</th>\n",
       "      <td>1.710542e+06</td>\n",
       "      <td>1.029782e+05</td>\n",
       "      <td>1.715486e+01</td>\n",
       "      <td>2.776219e+00</td>\n",
       "      <td>1.345202e+01</td>\n",
       "      <td>1.111484e+01</td>\n",
       "    </tr>\n",
       "    <tr>\n",
       "      <th>std</th>\n",
       "      <td>9.875817e+05</td>\n",
       "      <td>5.953372e+04</td>\n",
       "      <td>1.773316e+01</td>\n",
       "      <td>2.046829e+00</td>\n",
       "      <td>4.226088e+00</td>\n",
       "      <td>9.206737e+00</td>\n",
       "    </tr>\n",
       "    <tr>\n",
       "      <th>min</th>\n",
       "      <td>1.000000e+00</td>\n",
       "      <td>1.000000e+00</td>\n",
       "      <td>1.000000e+00</td>\n",
       "      <td>0.000000e+00</td>\n",
       "      <td>0.000000e+00</td>\n",
       "      <td>0.000000e+00</td>\n",
       "    </tr>\n",
       "    <tr>\n",
       "      <th>25%</th>\n",
       "      <td>8.552715e+05</td>\n",
       "      <td>5.139400e+04</td>\n",
       "      <td>5.000000e+00</td>\n",
       "      <td>1.000000e+00</td>\n",
       "      <td>1.000000e+01</td>\n",
       "      <td>4.000000e+00</td>\n",
       "    </tr>\n",
       "    <tr>\n",
       "      <th>50%</th>\n",
       "      <td>1.710542e+06</td>\n",
       "      <td>1.026890e+05</td>\n",
       "      <td>1.100000e+01</td>\n",
       "      <td>3.000000e+00</td>\n",
       "      <td>1.300000e+01</td>\n",
       "      <td>7.000000e+00</td>\n",
       "    </tr>\n",
       "    <tr>\n",
       "      <th>75%</th>\n",
       "      <td>2.565812e+06</td>\n",
       "      <td>1.543850e+05</td>\n",
       "      <td>2.300000e+01</td>\n",
       "      <td>5.000000e+00</td>\n",
       "      <td>1.600000e+01</td>\n",
       "      <td>1.500000e+01</td>\n",
       "    </tr>\n",
       "    <tr>\n",
       "      <th>max</th>\n",
       "      <td>3.421083e+06</td>\n",
       "      <td>2.062090e+05</td>\n",
       "      <td>1.000000e+02</td>\n",
       "      <td>6.000000e+00</td>\n",
       "      <td>2.300000e+01</td>\n",
       "      <td>3.000000e+01</td>\n",
       "    </tr>\n",
       "  </tbody>\n",
       "</table>\n",
       "</div>"
      ],
      "text/plain": [
       "           order_id       user_id  order_number     order_dow  \\\n",
       "count  3.421083e+06  3.421083e+06  3.421083e+06  3.421083e+06   \n",
       "mean   1.710542e+06  1.029782e+05  1.715486e+01  2.776219e+00   \n",
       "std    9.875817e+05  5.953372e+04  1.773316e+01  2.046829e+00   \n",
       "min    1.000000e+00  1.000000e+00  1.000000e+00  0.000000e+00   \n",
       "25%    8.552715e+05  5.139400e+04  5.000000e+00  1.000000e+00   \n",
       "50%    1.710542e+06  1.026890e+05  1.100000e+01  3.000000e+00   \n",
       "75%    2.565812e+06  1.543850e+05  2.300000e+01  5.000000e+00   \n",
       "max    3.421083e+06  2.062090e+05  1.000000e+02  6.000000e+00   \n",
       "\n",
       "       order_hour_of_day  days_since_prior_order  \n",
       "count       3.421083e+06            3.214874e+06  \n",
       "mean        1.345202e+01            1.111484e+01  \n",
       "std         4.226088e+00            9.206737e+00  \n",
       "min         0.000000e+00            0.000000e+00  \n",
       "25%         1.000000e+01            4.000000e+00  \n",
       "50%         1.300000e+01            7.000000e+00  \n",
       "75%         1.600000e+01            1.500000e+01  \n",
       "max         2.300000e+01            3.000000e+01  "
      ]
     },
     "execution_count": 60,
     "metadata": {},
     "output_type": "execute_result"
    }
   ],
   "source": [
    "orders_df.describe()"
   ]
  },
  {
   "cell_type": "markdown",
   "id": "852f010b-bca3-44bf-a773-887c73677d5b",
   "metadata": {},
   "source": [
    "## Summary of 'df.describe() output for 'orders_df'\n",
    "**All numeric columns are within expected ranges with no apparent outlier or incorrect values.\n",
    "**'order_dow' ranges from 0 to 6 giving it a total of excatly 7 values for the 7 days of the week.\n",
    "**'order_dow' column doesn't contain any strange or incorrect values.\n",
    "**the 50th percentile is 3 in this case,making it the exact center of 0 and 6.\n",
    "**'order_hour_of_day' ranges from 0 to 23 giving it a total of 24 hours in a day\n",
    "**'days_since_prior_order' has -206,209 missing values which matches the number of unique users.This is expected and likely represents first-time orders(no prior data to compute days form)."
   ]
  },
  {
   "cell_type": "code",
   "execution_count": 61,
   "id": "8bf4621e-dacb-4569-bb7a-f4fad558df7a",
   "metadata": {
    "scrolled": true
   },
   "outputs": [
    {
     "data": {
      "text/plain": [
       "order_id                    int64\n",
       "user_id                     int64\n",
       "eval_set                   object\n",
       "order_number                int64\n",
       "order_dow                   int64\n",
       "order_hour_of_day           int64\n",
       "days_since_prior_order    float64\n",
       "dtype: object"
      ]
     },
     "execution_count": 61,
     "metadata": {},
     "output_type": "execute_result"
    }
   ],
   "source": [
    "## Step 3: Check for Mixed-Type Data in 'orders_df'\n",
    "orders_df.dtypes"
   ]
  },
  {
   "cell_type": "code",
   "execution_count": 62,
   "id": "da15d3e9-b006-4bee-b7df-e57fa1096530",
   "metadata": {},
   "outputs": [],
   "source": [
    "# Check for mixed types\n",
    "for col in orders_df.columns.tolist():\n",
    " weird = (orders_df[[col]].map(type) != orders_df[[col]].iloc[0].apply(type)).any(axis = 1)\n",
    " if len (orders_df[weird]) > 0 :\n",
    "     print(col)"
   ]
  },
  {
   "cell_type": "markdown",
   "id": "f130f643-f7a6-47d8-92d7-73d4ac0f9d13",
   "metadata": {},
   "source": [
    "**No mixed type columns were found. All columns contain consistent data types which enures stability during future processing steps."
   ]
  },
  {
   "cell_type": "markdown",
   "id": "c84e1f54-929c-4cbb-aa25-c649688c20c7",
   "metadata": {},
   "source": [
    "## Step 4: Check Missing Values"
   ]
  },
  {
   "cell_type": "code",
   "execution_count": 71,
   "id": "05db33bc-013c-4efe-9b90-c3f1d8c64677",
   "metadata": {},
   "outputs": [
    {
     "data": {
      "text/plain": [
       "order_id                       0\n",
       "user_id                        0\n",
       "eval_set                       0\n",
       "order_number                   0\n",
       "order_dow                      0\n",
       "order_hour_of_day              0\n",
       "days_since_prior_order    206209\n",
       "dtype: int64"
      ]
     },
     "execution_count": 71,
     "metadata": {},
     "output_type": "execute_result"
    }
   ],
   "source": [
    "# Finding missing values\n",
    "orders_df.isnull().sum()"
   ]
  },
  {
   "cell_type": "markdown",
   "id": "34435340-ff6a-4125-a16a-01980e759102",
   "metadata": {},
   "source": [
    "**Only days_since_prior_order has missing values and that is 206,209. This number aligns perfectly with the number of unique users which strongly suggest that these missing values represents first time orders where there's no prior order to compute the number of days from."
   ]
  },
  {
   "cell_type": "code",
   "execution_count": 79,
   "id": "9e22c0ac-ef1b-475f-aba5-0aa1f6644e9c",
   "metadata": {},
   "outputs": [],
   "source": [
    "# Handling missing values\n",
    "orders_df['days_since_prior_order'] = orders_df['days_since_prior_order'].fillna(1)"
   ]
  },
  {
   "cell_type": "markdown",
   "id": "af095869-1107-4897-a887-f9332f0ab0b0",
   "metadata": {},
   "source": [
    "**This approach keeps the column nummerical and avoids introducing outliers. Chose 1 instead of 0 to prevent confusion with same day orders and ensure smooth analysis along side the line."
   ]
  },
  {
   "cell_type": "markdown",
   "id": "336f07f9-72ba-48c9-83b6-7a805ac1b29f",
   "metadata": {},
   "source": [
    "## Step 5: Check for Duplicates"
   ]
  },
  {
   "cell_type": "code",
   "execution_count": 64,
   "id": "dd58160e-912d-4657-966b-d84d38f113f4",
   "metadata": {},
   "outputs": [
    {
     "data": {
      "text/plain": [
       "(3421083, 7)"
      ]
     },
     "execution_count": 64,
     "metadata": {},
     "output_type": "execute_result"
    }
   ],
   "source": [
    "# cheking for duplictaes\n",
    "orders_df.shape"
   ]
  },
  {
   "cell_type": "code",
   "execution_count": 68,
   "id": "818ffcaf-6798-46d9-afd5-fc1700ddcb12",
   "metadata": {},
   "outputs": [
    {
     "data": {
      "text/plain": [
       "np.int64(0)"
      ]
     },
     "execution_count": 68,
     "metadata": {},
     "output_type": "execute_result"
    }
   ],
   "source": [
    "orders_df.duplicated().sum()"
   ]
  },
  {
   "cell_type": "code",
   "execution_count": 67,
   "id": "4fdd72d5-d8ad-48e6-ad6c-a9e28370250e",
   "metadata": {},
   "outputs": [
    {
     "data": {
      "text/html": [
       "<div>\n",
       "<style scoped>\n",
       "    .dataframe tbody tr th:only-of-type {\n",
       "        vertical-align: middle;\n",
       "    }\n",
       "\n",
       "    .dataframe tbody tr th {\n",
       "        vertical-align: top;\n",
       "    }\n",
       "\n",
       "    .dataframe thead th {\n",
       "        text-align: right;\n",
       "    }\n",
       "</style>\n",
       "<table border=\"1\" class=\"dataframe\">\n",
       "  <thead>\n",
       "    <tr style=\"text-align: right;\">\n",
       "      <th></th>\n",
       "      <th>order_id</th>\n",
       "      <th>user_id</th>\n",
       "      <th>eval_set</th>\n",
       "      <th>order_number</th>\n",
       "      <th>order_dow</th>\n",
       "      <th>order_hour_of_day</th>\n",
       "      <th>days_since_prior_order</th>\n",
       "    </tr>\n",
       "  </thead>\n",
       "  <tbody>\n",
       "  </tbody>\n",
       "</table>\n",
       "</div>"
      ],
      "text/plain": [
       "Empty DataFrame\n",
       "Columns: [order_id, user_id, eval_set, order_number, order_dow, order_hour_of_day, days_since_prior_order]\n",
       "Index: []"
      ]
     },
     "execution_count": 67,
     "metadata": {},
     "output_type": "execute_result"
    }
   ],
   "source": [
    "orders_df[orders_df.duplicated()]"
   ]
  },
  {
   "cell_type": "markdown",
   "id": "778a46e3-2f36-4e4f-99fd-0e1689d48996",
   "metadata": {},
   "source": [
    "** All entries in the 'orders_df' are unique and no action is required because 0 duplicate rows were found."
   ]
  },
  {
   "cell_type": "markdown",
   "id": "cba434ce-a849-402f-b74a-b95a4adbd6a8",
   "metadata": {},
   "source": [
    "**The combination of these 2 methods allows you to identify and confirm whether duplicates exist. one shows the actual duplicated rows and the other gives the count. It's a standard and effective approach for checking datasets intergrity before deeper analysis."
   ]
  },
  {
   "cell_type": "markdown",
   "id": "c1b31d60-e839-41e6-a23c-d3df704fb684",
   "metadata": {},
   "source": [
    "## Step 6: Export data"
   ]
  },
  {
   "cell_type": "code",
   "execution_count": 69,
   "id": "1670a6e9-6ee6-416f-842f-1fcb95fc7379",
   "metadata": {},
   "outputs": [],
   "source": [
    "# Checking for path\n",
    "path = os.getcwd()"
   ]
  },
  {
   "cell_type": "code",
   "execution_count": 70,
   "id": "048a8094-5948-41bd-ba79-418dd2e6fe79",
   "metadata": {},
   "outputs": [],
   "source": [
    "# Exporting files\n",
    "prepared_data_path = os.path.join(path, \"Prepared Data\")\n",
    "os.makedirs(prepared_data_path, exist_ok=True)"
   ]
  },
  {
   "cell_type": "code",
   "execution_count": 81,
   "id": "87a17d16-e8a7-41d4-b3c4-5d1aefd55af2",
   "metadata": {},
   "outputs": [],
   "source": [
    "orders_df.to_csv(os.path.join(prepared_data_path, \"orders_clean.csv\"))"
   ]
  },
  {
   "cell_type": "code",
   "execution_count": 82,
   "id": "1e3ec751-55a3-41d9-8887-543dd144a318",
   "metadata": {},
   "outputs": [],
   "source": [
    "prods_df_clean_no_dups.to_csv(os.path.join(prepared_data_path, \"products.csv\"))\n",
    "                              "
   ]
  },
  {
   "cell_type": "code",
   "execution_count": null,
   "id": "5a01d263-ddda-4288-978e-677aa428da54",
   "metadata": {},
   "outputs": [],
   "source": []
  }
 ],
 "metadata": {
  "kernelspec": {
   "display_name": "base",
   "language": "python",
   "name": "python3"
  },
  "language_info": {
   "codemirror_mode": {
    "name": "ipython",
    "version": 3
   },
   "file_extension": ".py",
   "mimetype": "text/x-python",
   "name": "python",
   "nbconvert_exporter": "python",
   "pygments_lexer": "ipython3",
   "version": "3.13.5"
  }
 },
 "nbformat": 4,
 "nbformat_minor": 5
}
