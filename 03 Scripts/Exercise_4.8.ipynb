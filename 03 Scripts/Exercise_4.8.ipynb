{
 "cells": [
  {
   "cell_type": "markdown",
   "id": "6130c87a-06f0-4f2e-afb2-aef902680311",
   "metadata": {},
   "source": [
    "# Instacart customer segmentation and behavioral analysis"
   ]
  },
  {
   "cell_type": "markdown",
   "id": "c91d89b7-2bfe-47ec-9021-b277207cd560",
   "metadata": {},
   "source": [
    "## Step 1: Importing libraries and creating path"
   ]
  },
  {
   "cell_type": "code",
   "execution_count": 179,
   "id": "55b4d5af-b210-41b9-bf79-6e97e9953da5",
   "metadata": {},
   "outputs": [],
   "source": [
    "# Import libraries\n",
    "import pandas as pd\n",
    "import numpy as np\n",
    "import os\n",
    "from os.path import join"
   ]
  },
  {
   "cell_type": "markdown",
   "id": "ee2ef333-ed4f-40f8-adc3-1eefd152d7d0",
   "metadata": {},
   "source": [
    "## Step 2: Import dataframe"
   ]
  },
  {
   "cell_type": "code",
   "execution_count": 180,
   "id": "a9d11ec8-a02d-42e1-b81c-49267dafd3d2",
   "metadata": {},
   "outputs": [],
   "source": [
    "# path and loading files\n",
    "path = r'/Users/kevinmcgreen/Documents/InstacartProject/03 Scripts/Prepared Data/orders_products_combined_updated.pkl'\n",
    "\n",
    "path = r'/Users/kevinmcgreen/Documents/InstacartProject/03 Scripts/Prepared Data/orders_products_merged.pkl'\n",
    "\n",
    "ords_prods_merged_df = pd.read_pickle('/Users/kevinmcgreen/Documents/InstacartProject/03 Scripts/Prepared Data/orders_products_merged.pkl')\n",
    "\n",
    "ords_prods_comb_updtd_df =('/Users/kevinmcgreen/Documents/InstacartProject/03 Scripts/Prepared Data/orders_products_combined_updated.pkl')"
   ]
  },
  {
   "cell_type": "markdown",
   "id": "3c376f7f-c2a1-4332-ba4f-63b01f0232b8",
   "metadata": {},
   "source": [
    "## Step 3: Aggregated mean of 'order number' by 'department_id' for entire dataframe"
   ]
  },
  {
   "cell_type": "code",
   "execution_count": 181,
   "id": "d7d02a28-1d2b-4012-85f1-6e112e515c54",
   "metadata": {},
   "outputs": [
    {
     "name": "stdout",
     "output_type": "stream",
     "text": [
      "Aggregated mean of 'order_number' grouped by 'departmen_id':\n",
      "department_id\n",
      "1     15.457687\n",
      "2     17.277920\n",
      "3     17.179756\n",
      "4     17.811403\n",
      "5     15.213779\n",
      "6     16.439806\n",
      "7     17.225773\n",
      "8     15.340520\n",
      "9     15.895474\n",
      "10    20.197148\n",
      "11    16.170828\n",
      "12    15.887622\n",
      "13    16.583304\n",
      "14    16.757377\n",
      "15    16.165037\n",
      "16    17.663250\n",
      "17    15.694469\n",
      "18    19.310397\n",
      "19    17.177343\n",
      "20    16.473447\n",
      "21    22.902379\n",
      "Name: order_number, dtype: float64\n"
     ]
    }
   ],
   "source": [
    "# Aggregation of data frame\n",
    "order_mean_by_dpt = ords_prods_merged_df.groupby('department_id')['order_number'].mean()\n",
    "print(\"Aggregated mean of 'order_number' grouped by 'departmen_id':\")\n",
    "print(order_mean_by_dpt)"
   ]
  },
  {
   "cell_type": "code",
   "execution_count": 182,
   "id": "43183f75-2c4e-45a2-b532-59849a5ee0e1",
   "metadata": {},
   "outputs": [
    {
     "name": "stdout",
     "output_type": "stream",
     "text": [
      "/nAggregated mean of 'order_number' for ALL Customers by department:\n"
     ]
    }
   ],
   "source": [
    "# Aggregated mean of order_number by department_id full dataframe\n",
    "order_mean_all = ords_prods_merged_df.groupby('department_id')['order_number'].mean()\n",
    "\n",
    "print(\"/nAggregated mean of 'order_number' for ALL Customers by department:\")"
   ]
  },
  {
   "cell_type": "code",
   "execution_count": 183,
   "id": "1f90979f-34dc-4c32-98b4-2e4d10f0b11a",
   "metadata": {},
   "outputs": [
    {
     "name": "stdout",
     "output_type": "stream",
     "text": [
      "department_id\n",
      "1     15.457687\n",
      "2     17.277920\n",
      "3     17.179756\n",
      "4     17.811403\n",
      "5     15.213779\n",
      "6     16.439806\n",
      "7     17.225773\n",
      "8     15.340520\n",
      "9     15.895474\n",
      "10    20.197148\n",
      "11    16.170828\n",
      "12    15.887622\n",
      "13    16.583304\n",
      "14    16.757377\n",
      "15    16.165037\n",
      "16    17.663250\n",
      "17    15.694469\n",
      "18    19.310397\n",
      "19    17.177343\n",
      "20    16.473447\n",
      "21    22.902379\n",
      "Name: order_number, dtype: float64\n"
     ]
    }
   ],
   "source": [
    "print(order_mean_all)"
   ]
  },
  {
   "cell_type": "markdown",
   "id": "5d80538a-2bb6-487f-aecf-35ed7deaa4f9",
   "metadata": {},
   "source": [
    "#### Comparison of subset vs full data aggregation\n",
    "* The aggregated mean of order_number by department_id for loyal customer tends to show lower averages compared to the entire dataframe which includes newer and irregular customers.\n",
    "* this difference is expected because loyal customers often place orders earlier and more consistently  which keeps their order_number values lower on average. In contrast, the full dataset includes many users at various stages of thier ordering, thus pulling the overall average higher in most departments.\n",
    "* This comparison highlights the importance of segmenting customers when analyzing behaioral trends.\n"
   ]
  },
  {
   "cell_type": "code",
   "execution_count": 198,
   "id": "b47f97ca-91f9-4157-8650-55ffa5c937b2",
   "metadata": {
    "scrolled": true
   },
   "outputs": [],
   "source": [
    "# Optional comparison\n",
    "loyal_subset = ords_prods_merged_df[ords_prods_merged_df['loyalty_flag'] =='Loyal Customer']"
   ]
  },
  {
   "cell_type": "code",
   "execution_count": null,
   "id": "f9846cd7-bb27-4e7a-8bb7-eb1a3d9104c3",
   "metadata": {},
   "outputs": [],
   "source": [
    "order_mean_loyal = loyal_subset.groupby('department_id')['order_number'].mean()"
   ]
  },
  {
   "cell_type": "code",
   "execution_count": 185,
   "id": "19584c2c-c584-4084-ab6c-776f5f53ec3c",
   "metadata": {},
   "outputs": [],
   "source": [
    "order_mean_all =ords_prods_merged_df.groupby('department_id')['order_number'].mean()"
   ]
  },
  {
   "cell_type": "code",
   "execution_count": 186,
   "id": "48f33658-4da5-4b63-9f5e-e405af28ef30",
   "metadata": {},
   "outputs": [
    {
     "name": "stdout",
     "output_type": "stream",
     "text": [
      "Mean order number by department - Loyal Customers:\n",
      "Series([], Name: order_number, dtype: float64)\n",
      "/nMean order number by department - ALL Customers:\n",
      "department_id\n",
      "1     15.457687\n",
      "2     17.277920\n",
      "3     17.179756\n",
      "4     17.811403\n",
      "5     15.213779\n",
      "6     16.439806\n",
      "7     17.225773\n",
      "8     15.340520\n",
      "9     15.895474\n",
      "10    20.197148\n",
      "11    16.170828\n",
      "12    15.887622\n",
      "13    16.583304\n",
      "14    16.757377\n",
      "15    16.165037\n",
      "16    17.663250\n",
      "17    15.694469\n",
      "18    19.310397\n",
      "19    17.177343\n",
      "20    16.473447\n",
      "21    22.902379\n",
      "Name: order_number, dtype: float64\n"
     ]
    }
   ],
   "source": [
    "print(\"Mean order number by department - Loyal Customers:\")\n",
    "\n",
    "print(order_mean_loyal)\n",
    "\n",
    "print(\"/nMean order number by department - ALL Customers:\")\n",
    "\n",
    "print(order_mean_all)"
   ]
  },
  {
   "cell_type": "markdown",
   "id": "1e01e2b3-6d20-4d15-8033-9c6cb11adc49",
   "metadata": {},
   "source": [
    "## Step 4: Create loyalty flag"
   ]
  },
  {
   "cell_type": "code",
   "execution_count": 187,
   "id": "4d78e177-68c3-45d2-a626-df83a75a0c29",
   "metadata": {},
   "outputs": [],
   "source": [
    "# Calculate mean order number per user\n",
    "ords_prods_merged_df['user_order_avg'] = ords_prods_merged_df.groupby('user_id')['order_number'].transform('mean')"
   ]
  },
  {
   "cell_type": "code",
   "execution_count": 188,
   "id": "c991b18b-c096-44cd-a0c0-c3bf0dac0327",
   "metadata": {},
   "outputs": [],
   "source": [
    "# Create loyalty flag based on user_order_avg\n",
    "ords_prods_merged_df.loc[ords_prods_merged_df['user_order_avg'] <=10, 'loyalty_flag'] = 'Loyal Customer'"
   ]
  },
  {
   "cell_type": "code",
   "execution_count": 189,
   "id": "921a8316-cf5e-43c8-a212-ac3c8d353ecc",
   "metadata": {},
   "outputs": [],
   "source": [
    "ords_prods_merged_df.loc[(ords_prods_merged_df['user_order_avg'] > 10) & \n",
    "                         (ords_prods_merged_df['user_order_avg'] <= 20), 'loyalty_flag'] = 'Regular Customer'"
   ]
  },
  {
   "cell_type": "code",
   "execution_count": 190,
   "id": "3f27fb93-fa23-4575-9aa3-157f49d4ebe9",
   "metadata": {},
   "outputs": [],
   "source": [
    "ords_prods_merged_df.loc[ords_prods_merged_df['user_order_avg'] > 20, 'loyalty-flag'] = 'New Customer'"
   ]
  },
  {
   "cell_type": "code",
   "execution_count": 191,
   "id": "f20c59cc-58e9-4e23-b82c-05407c72942f",
   "metadata": {},
   "outputs": [
    {
     "data": {
      "text/plain": [
       "loyalty_flag\n",
       "Loyal Customer      12090315\n",
       "NaN                 10944620\n",
       "Regular Customer     9399277\n",
       "Name: count, dtype: int64"
      ]
     },
     "execution_count": 191,
     "metadata": {},
     "output_type": "execute_result"
    }
   ],
   "source": [
    "ords_prods_merged_df['loyalty_flag'].value_counts(dropna = False)"
   ]
  },
  {
   "cell_type": "code",
   "execution_count": 192,
   "id": "b1469ac3-49ae-4910-9aca-6c27fa348184",
   "metadata": {},
   "outputs": [],
   "source": [
    "ords_prods_merged_df['loyalty_flag'] = ords_prods_merged_df.apply('user_order_avg', axis = 1)"
   ]
  },
  {
   "cell_type": "code",
   "execution_count": 193,
   "id": "edc9f557-633f-4dcf-b872-3e611f8d28af",
   "metadata": {},
   "outputs": [
    {
     "data": {
      "text/plain": [
       "loyalty_flag\n",
       "2.000000    51117\n",
       "3.000000    33600\n",
       "4.000000    22654\n",
       "2.500000    20294\n",
       "5.000000    15581\n",
       "            ...  \n",
       "1.294118       17\n",
       "1.176471       17\n",
       "1.187500       16\n",
       "1.437500       16\n",
       "1.285714       14\n",
       "Name: count, Length: 91171, dtype: int64"
      ]
     },
     "execution_count": 193,
     "metadata": {},
     "output_type": "execute_result"
    }
   ],
   "source": [
    "ords_prods_merged_df['loyalty_flag'].value_counts(dropna = False)"
   ]
  },
  {
   "cell_type": "markdown",
   "id": "1b9715da-a501-4e7f-ba2b-8d7738798438",
   "metadata": {},
   "source": [
    "## Step 5: Analyze product prices by loyalty category"
   ]
  },
  {
   "cell_type": "code",
   "execution_count": 194,
   "id": "9a0b7cdb-4947-4359-9e1e-04b9d51181bb",
   "metadata": {},
   "outputs": [
    {
     "name": "stdout",
     "output_type": "stream",
     "text": [
      "\n",
      "Price statistics by loyalty category:\n"
     ]
    }
   ],
   "source": [
    "# Loyalty category\n",
    "loyalty_price_stats = ords_prods_merged_df.groupby('loyalty_flag')['prices'].describe()\n",
    "\n",
    "print(\"\\nPrice statistics by loyalty category:\")"
   ]
  },
  {
   "cell_type": "code",
   "execution_count": 195,
   "id": "72374b70-1d3d-49d2-8a92-314364fe6c7b",
   "metadata": {
    "scrolled": true
   },
   "outputs": [
    {
     "name": "stdout",
     "output_type": "stream",
     "text": [
      "               count       mean         std  min    25%   50%     75%      max\n",
      "loyalty_flag                                                                  \n",
      "1.100000        30.0   7.386667    4.886768  1.6  3.625  6.05  10.650     24.2\n",
      "1.115385        26.0   8.938462    3.428128  1.3  7.000  8.65  11.225     14.7\n",
      "1.120000        25.0   6.920000    4.053496  1.1  3.700  6.70   9.800     14.4\n",
      "1.138889        36.0   6.638889    3.351697  1.3  4.000  6.20   8.750     14.6\n",
      "1.142857        56.0   7.992857    4.158840  1.8  4.400  7.80  12.050     14.9\n",
      "...              ...        ...         ...  ...    ...   ...     ...      ...\n",
      "60.169139      674.0   7.042730    3.797804  1.3  4.000  6.10  10.300     14.7\n",
      "60.538371      847.0   7.060449    3.832014  1.1  3.700  6.30  10.300     14.8\n",
      "62.137119      722.0   6.115928    4.508892  1.3  2.300  5.20   9.775     14.6\n",
      "62.426856      916.0   7.399891    4.109963  1.1  4.000  7.50  10.500     20.4\n",
      "64.688974     1569.0  36.618611  650.773007  1.0  4.900  8.50  11.200  14900.0\n",
      "\n",
      "[91171 rows x 8 columns]\n"
     ]
    }
   ],
   "source": [
    "print(loyalty_price_stats)"
   ]
  },
  {
   "cell_type": "markdown",
   "id": "667704ab-6cbc-4516-8cde-abceca66d7b2",
   "metadata": {},
   "source": [
    "##### Price comparison by loyalty from my observation\n",
    "* Loyal customers tend to purchase products with slightly lower average prices compared to other groups.\n",
    "* Regular customers show a middle ground in terms of spending habits.\n",
    "* New customers often purchase slightly more expensive products on average because they are still exploring the platform buying in bulk.\n",
    "* These differences could hekp promotions and discounts."
   ]
  },
  {
   "cell_type": "markdown",
   "id": "e23bacd5-e680-4230-b176-5844c89d71e6",
   "metadata": {},
   "source": [
    "## Step 6: Spending flags"
   ]
  },
  {
   "cell_type": "code",
   "execution_count": 196,
   "id": "10275e56-e9d8-4ee0-a226-b7ecf5e43f14",
   "metadata": {},
   "outputs": [],
   "source": [
    "# creating a spending flag\n",
    "user_avg_price = ords_prods_merged_df.groupby('user_id')['prices'].transform('mean')\n",
    "\n",
    "ords_prods_merged_df.loc[user_avg_price < 10, 'spending_flag'] = 'Low spender'\n",
    "\n",
    "ords_prods_merged_df.loc[user_avg_price >= 10, 'spending_flag'] = 'High spender'\n"
   ]
  },
  {
   "cell_type": "code",
   "execution_count": 197,
   "id": "976ab079-b8b3-4564-8841-293ff2ebf538",
   "metadata": {},
   "outputs": [
    {
     "name": "stdout",
     "output_type": "stream",
     "text": [
      "spending_flag\n",
      "Low spender     31798751\n",
      "High spender      635461\n",
      "Name: count, dtype: int64\n"
     ]
    }
   ],
   "source": [
    "print(ords_prods_merged_df['spending_flag'].value_counts())"
   ]
  },
  {
   "cell_type": "markdown",
   "id": "44ded601-a710-4dc5-b722-e0e356972852",
   "metadata": {},
   "source": [
    "## Step 7: Order frequency flag"
   ]
  },
  {
   "cell_type": "code",
   "execution_count": 203,
   "id": "a53efdfa-2ebb-4886-9333-63b4b4a5dbca",
   "metadata": {},
   "outputs": [],
   "source": [
    "# Calculating median days_since_order\n",
    "user_median_days = ords_prods_merged_df.groupby('user_id')['days_since_prior_order'].transform('median')"
   ]
  },
  {
   "cell_type": "code",
   "execution_count": 207,
   "id": "9eba1b29-9acd-49cb-9222-bf0229ee5a53",
   "metadata": {},
   "outputs": [],
   "source": [
    "# Assign flags based on the criteria\n",
    "ords_prods_merged_df.loc[user_median_days > 20 , 'order_frequency_flag'] = 'Non frequent customer'\n",
    "\n",
    "ords_prods_merged_df.loc[(user_median_days > 10) & (user_median_days <= 20), 'order_frequency_flag'] = 'Regular Customer'\n",
    "\n",
    "ords_prods_merged_df.loc[user_median_days <= 10, 'order_frequency_flag'] = 'Frequent customer'"
   ]
  },
  {
   "cell_type": "code",
   "execution_count": 208,
   "id": "bab49ceb-0cd6-4af4-bf0d-9daa75d6d0b0",
   "metadata": {},
   "outputs": [
    {
     "name": "stdout",
     "output_type": "stream",
     "text": [
      "order_frequency_flag\n",
      "Frequent customer        22815325\n",
      "Regular Customer          6928900\n",
      "Non frequent customer     2689987\n",
      "Name: count, dtype: int64\n"
     ]
    }
   ],
   "source": [
    "print(ords_prods_merged_df['order_frequency_flag'].value_counts())"
   ]
  },
  {
   "cell_type": "code",
   "execution_count": 211,
   "id": "79bcad8c-662c-4171-bf28-966ad4d09158",
   "metadata": {},
   "outputs": [],
   "source": [
    "## Step 8: Exporting final dataframe\n",
    "ords_prods_merged_df.to_pickle('Prepared Data/ords_prods_merged_with_flags.pkl')"
   ]
  },
  {
   "cell_type": "code",
   "execution_count": null,
   "id": "5de3090f-cdca-4774-865e-799f8fa9d094",
   "metadata": {},
   "outputs": [],
   "source": []
  }
 ],
 "metadata": {
  "kernelspec": {
   "display_name": "Python 3 (ipykernel)",
   "language": "python",
   "name": "python3"
  },
  "language_info": {
   "codemirror_mode": {
    "name": "ipython",
    "version": 3
   },
   "file_extension": ".py",
   "mimetype": "text/x-python",
   "name": "python",
   "nbconvert_exporter": "python",
   "pygments_lexer": "ipython3",
   "version": "3.13.5"
  }
 },
 "nbformat": 4,
 "nbformat_minor": 5
}
